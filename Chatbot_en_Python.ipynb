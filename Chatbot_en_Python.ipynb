{
  "cells": [
    {
      "cell_type": "markdown",
      "metadata": {
        "id": "view-in-github",
        "colab_type": "text"
      },
      "source": [
        "<a href=\"https://colab.research.google.com/github/JorgetNau/examples-for-eBooks/blob/master/Chatbot_en_Python.ipynb\" target=\"_parent\"><img src=\"https://colab.research.google.com/assets/colab-badge.svg\" alt=\"Open In Colab\"/></a>"
      ]
    },
    {
      "cell_type": "code",
      "source": [
        "import nltk\n",
        "from nltk.stem import WordNetLemmatizer\n",
        "import datetime\n",
        "\n",
        "# Creamos un objeto lemmatizer para normalizar las palabras.\n",
        "lemmatizer = WordNetLemmatizer()\n",
        "\n",
        "# Definimos las respuestas del chatbot.\n",
        "# Usamos un diccionario para un acceso rápido a las respuestas.\n",
        "respuestas = {\n",
        "    \"hola\": \"Hola, ¿cómo estás?\",\n",
        "    \"adios\": \"¡Adiós! Que tengas un buen día.\",\n",
        "    \"gracias\": \"De nada, ¡es un placer ayudarte!\",\n",
        "    \"como estas\": \"Estoy bien, gracias. ¿Y tú?\",\n",
        "    \"que puedes hacer\": \"Puedo charlar contigo, responder preguntas sencillas o simplemente pasar el tiempo. ¿En qué puedo ayudarte hoy?\",\n",
        "    \"que hora es\": f\"La hora actual es {datetime.datetime.now().strftime('%H:%M')}.\",\n",
        "    \"que dia es hoy\": f\"Hoy es {datetime.date.today().strftime('%A, %d de %B de %Y')}.\",\n",
        "    \"que es la inteligencia artificial\": \"La inteligencia artificial es una rama de la informática que busca crear máquinas que imiten la inteligencia humana. Su objetivo es que las máquinas puedan aprender, razonar y resolver problemas.\",\n",
        "    \"cual es la capital de francia\": \"La capital de Francia es París.\",\n",
        "    \"dime un dato curioso\": \"El océano Atlántico es el segundo océano más grande del mundo y cubre aproximadamente una quinta parte de la superficie de la Tierra.\",\n",
        "    \"recomiendame una pelicula\": \"Te recomiendo ver 'El Padrino', 'El Señor de los Anillos' o 'Interestelar'. Son clásicos que no te puedes perder.\",\n",
        "    \"quien eres\": \"Soy un chatbot programado en Python, diseñado para ayudarte con información general.\",\n",
        "    \"clima\": \"No puedo darte el clima en tiempo real, pero puedes usar aplicaciones como AccuWeather o The Weather Channel.\",\n",
        "    \"ayuda\": \"Estoy aquí para ayudarte. Puedes preguntarme sobre temas generales, hacer preguntas simples o simplemente charlar. ¿Qué tienes en mente?\",\n",
        "    \"fin\": \"¡Hasta la próxima! No olvides volver si tienes más preguntas.\"\n",
        "}\n",
        "\n",
        "def procesar_entrada(texto):\n",
        "    \"\"\"\n",
        "    Procesa el texto del usuario para encontrar la respuesta más adecuada.\n",
        "    Args:\n",
        "        texto (str): El mensaje del usuario.\n",
        "    Returns:\n",
        "        str: La respuesta del chatbot.\n",
        "    \"\"\"\n",
        "    # Convierte la entrada a minúsculas y elimina los signos de puntuación.\n",
        "    entrada_limpia = texto.lower().strip(\"¿?¡!.\")\n",
        "\n",
        "    # Busca la respuesta directamente en el diccionario de respuestas.\n",
        "    if entrada_limpia in respuestas:\n",
        "        return respuestas[entrada_limpia]\n",
        "    else:\n",
        "        # Intenta una búsqueda más flexible con palabras clave.\n",
        "        palabras = nltk.word_tokenize(entrada_limpia)\n",
        "        palabras_lematizadas = [lemmatizer.lemmatize(p) for p in palabras]\n",
        "\n",
        "        # Búsqueda por palabras clave para respuestas más complejas.\n",
        "        if \"hora\" in palabras_lematizadas:\n",
        "            return respuestas[\"que hora es\"]\n",
        "        if \"dia\" in palabras_lematizadas:\n",
        "            return respuestas[\"que dia es hoy\"]\n",
        "        if \"adios\" in palabras_lematizadas:\n",
        "            return respuestas[\"adios\"]\n",
        "        if \"gracias\" in palabras_lematizadas:\n",
        "            return respuestas[\"gracias\"]\n",
        "        if \"inteligencia\" in palabras_lematizadas and \"artificial\" in palabras_lematizadas:\n",
        "            return respuestas[\"que es la inteligencia artificial\"]\n",
        "\n",
        "        return \"Lo siento, no entiendo lo que quieres decir. ¿Puedes reformular tu pregunta?\"\n",
        "\n",
        "def main():\n",
        "    \"\"\"Función principal del chatbot.\"\"\"\n",
        "    print(\"¡Hola! Soy un chatbot básico. Puedes escribir un mensaje para empezar a charlar.\")\n",
        "\n",
        "    # Bucle principal del chatbot para interactuar con el usuario.\n",
        "    while True:\n",
        "        entrada_usuario = input(\"Tú: \")\n",
        "\n",
        "        # Si el usuario escribe 'salir' o 'fin', el programa termina.\n",
        "        if entrada_usuario.lower() == 'salir' or entrada_usuario.lower() == 'fin':\n",
        "            print(\"Chatbot: ¡Adiós! Que tengas un buen día.\")\n",
        "            break\n",
        "\n",
        "        respuesta = procesar_entrada(entrada_usuario)\n",
        "        print(f\"Chatbot: {respuesta}\")\n",
        "\n",
        "# Ejecutamos el programa\n",
        "if __name__ == \"__main__\":\n",
        "    main()"
      ],
      "outputs": [],
      "execution_count": null,
      "metadata": {
        "id": "JjVZUb3VhIWE"
      }
    }
  ],
  "metadata": {
    "colab": {
      "provenance": [],
      "include_colab_link": true
    },
    "kernelspec": {
      "display_name": "Python 3",
      "name": "python3"
    }
  },
  "nbformat": 4,
  "nbformat_minor": 0
}